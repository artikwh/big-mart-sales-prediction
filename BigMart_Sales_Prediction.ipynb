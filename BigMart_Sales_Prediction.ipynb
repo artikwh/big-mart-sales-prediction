{
  "nbformat": 4,
  "nbformat_minor": 0,
  "metadata": {
    "colab": {
      "name": "BigMart_Sales_Prediction.ipynb",
      "provenance": [],
      "collapsed_sections": [],
      "authorship_tag": "ABX9TyMAmcrfcfhosc4QGEUqnLzT",
      "include_colab_link": true
    },
    "kernelspec": {
      "name": "python3",
      "display_name": "Python 3"
    },
    "language_info": {
      "name": "python"
    }
  },
  "cells": [
    {
      "cell_type": "markdown",
      "metadata": {
        "id": "view-in-github",
        "colab_type": "text"
      },
      "source": [
        "<a href=\"https://colab.research.google.com/github/artikwh/big-mart-sales-prediction/blob/main/BigMart_Sales_Prediction.ipynb\" target=\"_parent\"><img src=\"https://colab.research.google.com/assets/colab-badge.svg\" alt=\"Open In Colab\"/></a>"
      ]
    },
    {
      "cell_type": "markdown",
      "metadata": {
        "id": "_jVE2-oBAcFM"
      },
      "source": [
        "Sales Prediction Practice Problem on \n",
        "https://datahack.analyticsvidhya.com/contest/practice-problem-big-mart-sales-iii/\n",
        "we need to predict sales of products at a retail store depending on product attributes as well as store attributes.."
      ]
    },
    {
      "cell_type": "code",
      "metadata": {
        "id": "HZW_2gishXz6"
      },
      "source": [
        "import numpy as np\n",
        "import pandas as pd\n",
        "from sklearn.model_selection import train_test_split\n",
        "from sklearn.linear_model import LinearRegression\n",
        "from sklearn.linear_model import LogisticRegression"
      ],
      "execution_count": null,
      "outputs": []
    },
    {
      "cell_type": "code",
      "metadata": {
        "colab": {
          "base_uri": "https://localhost:8080/",
          "height": 36
        },
        "id": "ZxpMvMjbjXkG",
        "outputId": "0190e05f-df4f-44df-c2a2-c1fea436b6a3"
      },
      "source": [
        "%pwd"
      ],
      "execution_count": null,
      "outputs": [
        {
          "output_type": "execute_result",
          "data": {
            "application/vnd.google.colaboratory.intrinsic+json": {
              "type": "string"
            },
            "text/plain": [
              "'/content'"
            ]
          },
          "metadata": {
            "tags": []
          },
          "execution_count": 118
        }
      ]
    },
    {
      "cell_type": "code",
      "metadata": {
        "colab": {
          "base_uri": "https://localhost:8080/"
        },
        "id": "oDizkTJUjbz9",
        "outputId": "f8b299fe-0a7b-409e-989c-c4427b0f1a98"
      },
      "source": [
        "%ls"
      ],
      "execution_count": null,
      "outputs": [
        {
          "output_type": "stream",
          "text": [
            "\u001b[0m\u001b[01;34mdrive\u001b[0m/  \u001b[01;34msample_data\u001b[0m/  submission.csv  test_AbJTz2l.csv  train_v9rqX0R.csv\n"
          ],
          "name": "stdout"
        }
      ]
    },
    {
      "cell_type": "code",
      "metadata": {
        "colab": {
          "base_uri": "https://localhost:8080/",
          "height": 313
        },
        "id": "h3L5audah_8p",
        "outputId": "ac3c3b6a-69ae-49e7-9d8f-a51dbd098e5c"
      },
      "source": [
        "train = pd.read_csv(\"train_v9rqX0R.csv\")\n",
        "test = pd.read_csv(\"test_AbJTz2l.csv\")\n",
        "train.head()"
      ],
      "execution_count": null,
      "outputs": [
        {
          "output_type": "execute_result",
          "data": {
            "text/html": [
              "<div>\n",
              "<style scoped>\n",
              "    .dataframe tbody tr th:only-of-type {\n",
              "        vertical-align: middle;\n",
              "    }\n",
              "\n",
              "    .dataframe tbody tr th {\n",
              "        vertical-align: top;\n",
              "    }\n",
              "\n",
              "    .dataframe thead th {\n",
              "        text-align: right;\n",
              "    }\n",
              "</style>\n",
              "<table border=\"1\" class=\"dataframe\">\n",
              "  <thead>\n",
              "    <tr style=\"text-align: right;\">\n",
              "      <th></th>\n",
              "      <th>Item_Identifier</th>\n",
              "      <th>Item_Weight</th>\n",
              "      <th>Item_Fat_Content</th>\n",
              "      <th>Item_Visibility</th>\n",
              "      <th>Item_Type</th>\n",
              "      <th>Item_MRP</th>\n",
              "      <th>Outlet_Identifier</th>\n",
              "      <th>Outlet_Establishment_Year</th>\n",
              "      <th>Outlet_Size</th>\n",
              "      <th>Outlet_Location_Type</th>\n",
              "      <th>Outlet_Type</th>\n",
              "      <th>Item_Outlet_Sales</th>\n",
              "    </tr>\n",
              "  </thead>\n",
              "  <tbody>\n",
              "    <tr>\n",
              "      <th>0</th>\n",
              "      <td>FDA15</td>\n",
              "      <td>9.30</td>\n",
              "      <td>Low Fat</td>\n",
              "      <td>0.016047</td>\n",
              "      <td>Dairy</td>\n",
              "      <td>249.8092</td>\n",
              "      <td>OUT049</td>\n",
              "      <td>1999</td>\n",
              "      <td>Medium</td>\n",
              "      <td>Tier 1</td>\n",
              "      <td>Supermarket Type1</td>\n",
              "      <td>3735.1380</td>\n",
              "    </tr>\n",
              "    <tr>\n",
              "      <th>1</th>\n",
              "      <td>DRC01</td>\n",
              "      <td>5.92</td>\n",
              "      <td>Regular</td>\n",
              "      <td>0.019278</td>\n",
              "      <td>Soft Drinks</td>\n",
              "      <td>48.2692</td>\n",
              "      <td>OUT018</td>\n",
              "      <td>2009</td>\n",
              "      <td>Medium</td>\n",
              "      <td>Tier 3</td>\n",
              "      <td>Supermarket Type2</td>\n",
              "      <td>443.4228</td>\n",
              "    </tr>\n",
              "    <tr>\n",
              "      <th>2</th>\n",
              "      <td>FDN15</td>\n",
              "      <td>17.50</td>\n",
              "      <td>Low Fat</td>\n",
              "      <td>0.016760</td>\n",
              "      <td>Meat</td>\n",
              "      <td>141.6180</td>\n",
              "      <td>OUT049</td>\n",
              "      <td>1999</td>\n",
              "      <td>Medium</td>\n",
              "      <td>Tier 1</td>\n",
              "      <td>Supermarket Type1</td>\n",
              "      <td>2097.2700</td>\n",
              "    </tr>\n",
              "    <tr>\n",
              "      <th>3</th>\n",
              "      <td>FDX07</td>\n",
              "      <td>19.20</td>\n",
              "      <td>Regular</td>\n",
              "      <td>0.000000</td>\n",
              "      <td>Fruits and Vegetables</td>\n",
              "      <td>182.0950</td>\n",
              "      <td>OUT010</td>\n",
              "      <td>1998</td>\n",
              "      <td>NaN</td>\n",
              "      <td>Tier 3</td>\n",
              "      <td>Grocery Store</td>\n",
              "      <td>732.3800</td>\n",
              "    </tr>\n",
              "    <tr>\n",
              "      <th>4</th>\n",
              "      <td>NCD19</td>\n",
              "      <td>8.93</td>\n",
              "      <td>Low Fat</td>\n",
              "      <td>0.000000</td>\n",
              "      <td>Household</td>\n",
              "      <td>53.8614</td>\n",
              "      <td>OUT013</td>\n",
              "      <td>1987</td>\n",
              "      <td>High</td>\n",
              "      <td>Tier 3</td>\n",
              "      <td>Supermarket Type1</td>\n",
              "      <td>994.7052</td>\n",
              "    </tr>\n",
              "  </tbody>\n",
              "</table>\n",
              "</div>"
            ],
            "text/plain": [
              "  Item_Identifier  Item_Weight  ...        Outlet_Type  Item_Outlet_Sales\n",
              "0           FDA15         9.30  ...  Supermarket Type1          3735.1380\n",
              "1           DRC01         5.92  ...  Supermarket Type2           443.4228\n",
              "2           FDN15        17.50  ...  Supermarket Type1          2097.2700\n",
              "3           FDX07        19.20  ...      Grocery Store           732.3800\n",
              "4           NCD19         8.93  ...  Supermarket Type1           994.7052\n",
              "\n",
              "[5 rows x 12 columns]"
            ]
          },
          "metadata": {
            "tags": []
          },
          "execution_count": 120
        }
      ]
    },
    {
      "cell_type": "code",
      "metadata": {
        "colab": {
          "base_uri": "https://localhost:8080/"
        },
        "id": "bIGubtBZpGzw",
        "outputId": "5b7cdc08-0008-4be7-973b-ebcc157d9b59"
      },
      "source": [
        "train.columns"
      ],
      "execution_count": null,
      "outputs": [
        {
          "output_type": "execute_result",
          "data": {
            "text/plain": [
              "Index(['Item_Identifier', 'Item_Weight', 'Item_Fat_Content', 'Item_Visibility',\n",
              "       'Item_Type', 'Item_MRP', 'Outlet_Identifier',\n",
              "       'Outlet_Establishment_Year', 'Outlet_Size', 'Outlet_Location_Type',\n",
              "       'Outlet_Type', 'Item_Outlet_Sales'],\n",
              "      dtype='object')"
            ]
          },
          "metadata": {
            "tags": []
          },
          "execution_count": 121
        }
      ]
    },
    {
      "cell_type": "code",
      "metadata": {
        "colab": {
          "base_uri": "https://localhost:8080/"
        },
        "id": "UDRgF4DjpGiA",
        "outputId": "b1b2e07b-0caf-4df1-cfec-ef65b6a0f121"
      },
      "source": [
        "train.shape"
      ],
      "execution_count": null,
      "outputs": [
        {
          "output_type": "execute_result",
          "data": {
            "text/plain": [
              "(8523, 12)"
            ]
          },
          "metadata": {
            "tags": []
          },
          "execution_count": 122
        }
      ]
    },
    {
      "cell_type": "code",
      "metadata": {
        "colab": {
          "base_uri": "https://localhost:8080/"
        },
        "id": "6W8eHWM2pGTs",
        "outputId": "74c76266-bc2d-4270-eea9-c6d0372a1b5a"
      },
      "source": [
        "train.isnull().sum()"
      ],
      "execution_count": null,
      "outputs": [
        {
          "output_type": "execute_result",
          "data": {
            "text/plain": [
              "Item_Identifier                 0\n",
              "Item_Weight                  1463\n",
              "Item_Fat_Content                0\n",
              "Item_Visibility                 0\n",
              "Item_Type                       0\n",
              "Item_MRP                        0\n",
              "Outlet_Identifier               0\n",
              "Outlet_Establishment_Year       0\n",
              "Outlet_Size                  2410\n",
              "Outlet_Location_Type            0\n",
              "Outlet_Type                     0\n",
              "Item_Outlet_Sales               0\n",
              "dtype: int64"
            ]
          },
          "metadata": {
            "tags": []
          },
          "execution_count": 123
        }
      ]
    },
    {
      "cell_type": "code",
      "metadata": {
        "colab": {
          "base_uri": "https://localhost:8080/"
        },
        "id": "QWe6S-gXqZz2",
        "outputId": "b726df01-d811-4d9b-e4a9-127be886f0d8"
      },
      "source": [
        "train.info()"
      ],
      "execution_count": null,
      "outputs": [
        {
          "output_type": "stream",
          "text": [
            "<class 'pandas.core.frame.DataFrame'>\n",
            "RangeIndex: 8523 entries, 0 to 8522\n",
            "Data columns (total 12 columns):\n",
            " #   Column                     Non-Null Count  Dtype  \n",
            "---  ------                     --------------  -----  \n",
            " 0   Item_Identifier            8523 non-null   object \n",
            " 1   Item_Weight                7060 non-null   float64\n",
            " 2   Item_Fat_Content           8523 non-null   object \n",
            " 3   Item_Visibility            8523 non-null   float64\n",
            " 4   Item_Type                  8523 non-null   object \n",
            " 5   Item_MRP                   8523 non-null   float64\n",
            " 6   Outlet_Identifier          8523 non-null   object \n",
            " 7   Outlet_Establishment_Year  8523 non-null   int64  \n",
            " 8   Outlet_Size                6113 non-null   object \n",
            " 9   Outlet_Location_Type       8523 non-null   object \n",
            " 10  Outlet_Type                8523 non-null   object \n",
            " 11  Item_Outlet_Sales          8523 non-null   float64\n",
            "dtypes: float64(4), int64(1), object(7)\n",
            "memory usage: 799.2+ KB\n"
          ],
          "name": "stdout"
        }
      ]
    },
    {
      "cell_type": "code",
      "metadata": {
        "colab": {
          "base_uri": "https://localhost:8080/",
          "height": 300
        },
        "id": "DqkkZ-V8qPUc",
        "outputId": "3ebe6906-d865-49eb-dc94-bee0c4d3cd5a"
      },
      "source": [
        "train.describe()"
      ],
      "execution_count": null,
      "outputs": [
        {
          "output_type": "execute_result",
          "data": {
            "text/html": [
              "<div>\n",
              "<style scoped>\n",
              "    .dataframe tbody tr th:only-of-type {\n",
              "        vertical-align: middle;\n",
              "    }\n",
              "\n",
              "    .dataframe tbody tr th {\n",
              "        vertical-align: top;\n",
              "    }\n",
              "\n",
              "    .dataframe thead th {\n",
              "        text-align: right;\n",
              "    }\n",
              "</style>\n",
              "<table border=\"1\" class=\"dataframe\">\n",
              "  <thead>\n",
              "    <tr style=\"text-align: right;\">\n",
              "      <th></th>\n",
              "      <th>Item_Weight</th>\n",
              "      <th>Item_Visibility</th>\n",
              "      <th>Item_MRP</th>\n",
              "      <th>Outlet_Establishment_Year</th>\n",
              "      <th>Item_Outlet_Sales</th>\n",
              "    </tr>\n",
              "  </thead>\n",
              "  <tbody>\n",
              "    <tr>\n",
              "      <th>count</th>\n",
              "      <td>7060.000000</td>\n",
              "      <td>8523.000000</td>\n",
              "      <td>8523.000000</td>\n",
              "      <td>8523.000000</td>\n",
              "      <td>8523.000000</td>\n",
              "    </tr>\n",
              "    <tr>\n",
              "      <th>mean</th>\n",
              "      <td>12.857645</td>\n",
              "      <td>0.066132</td>\n",
              "      <td>140.992782</td>\n",
              "      <td>1997.831867</td>\n",
              "      <td>2181.288914</td>\n",
              "    </tr>\n",
              "    <tr>\n",
              "      <th>std</th>\n",
              "      <td>4.643456</td>\n",
              "      <td>0.051598</td>\n",
              "      <td>62.275067</td>\n",
              "      <td>8.371760</td>\n",
              "      <td>1706.499616</td>\n",
              "    </tr>\n",
              "    <tr>\n",
              "      <th>min</th>\n",
              "      <td>4.555000</td>\n",
              "      <td>0.000000</td>\n",
              "      <td>31.290000</td>\n",
              "      <td>1985.000000</td>\n",
              "      <td>33.290000</td>\n",
              "    </tr>\n",
              "    <tr>\n",
              "      <th>25%</th>\n",
              "      <td>8.773750</td>\n",
              "      <td>0.026989</td>\n",
              "      <td>93.826500</td>\n",
              "      <td>1987.000000</td>\n",
              "      <td>834.247400</td>\n",
              "    </tr>\n",
              "    <tr>\n",
              "      <th>50%</th>\n",
              "      <td>12.600000</td>\n",
              "      <td>0.053931</td>\n",
              "      <td>143.012800</td>\n",
              "      <td>1999.000000</td>\n",
              "      <td>1794.331000</td>\n",
              "    </tr>\n",
              "    <tr>\n",
              "      <th>75%</th>\n",
              "      <td>16.850000</td>\n",
              "      <td>0.094585</td>\n",
              "      <td>185.643700</td>\n",
              "      <td>2004.000000</td>\n",
              "      <td>3101.296400</td>\n",
              "    </tr>\n",
              "    <tr>\n",
              "      <th>max</th>\n",
              "      <td>21.350000</td>\n",
              "      <td>0.328391</td>\n",
              "      <td>266.888400</td>\n",
              "      <td>2009.000000</td>\n",
              "      <td>13086.964800</td>\n",
              "    </tr>\n",
              "  </tbody>\n",
              "</table>\n",
              "</div>"
            ],
            "text/plain": [
              "       Item_Weight  ...  Item_Outlet_Sales\n",
              "count  7060.000000  ...        8523.000000\n",
              "mean     12.857645  ...        2181.288914\n",
              "std       4.643456  ...        1706.499616\n",
              "min       4.555000  ...          33.290000\n",
              "25%       8.773750  ...         834.247400\n",
              "50%      12.600000  ...        1794.331000\n",
              "75%      16.850000  ...        3101.296400\n",
              "max      21.350000  ...       13086.964800\n",
              "\n",
              "[8 rows x 5 columns]"
            ]
          },
          "metadata": {
            "tags": []
          },
          "execution_count": 125
        }
      ]
    },
    {
      "cell_type": "code",
      "metadata": {
        "id": "pIvLsqdQsNZi"
      },
      "source": [
        ""
      ],
      "execution_count": null,
      "outputs": []
    },
    {
      "cell_type": "code",
      "metadata": {
        "colab": {
          "base_uri": "https://localhost:8080/"
        },
        "id": "zCSM-Gz1Yzlf",
        "outputId": "80e04a87-2718-42cc-8dae-ab9adf9e2f76"
      },
      "source": [
        "x = train[['Item_Fat_Content', 'Item_Visibility',\n",
        "       'Item_Type', 'Item_MRP',\n",
        "       'Outlet_Establishment_Year', 'Outlet_Location_Type',\n",
        "       'Outlet_Type']]\n",
        "test_x = test[['Item_Fat_Content', 'Item_Visibility',\n",
        "       'Item_Type', 'Item_MRP',\n",
        "       'Outlet_Establishment_Year', 'Outlet_Location_Type',\n",
        "       'Outlet_Type']]\n",
        "X = pd.get_dummies(x, columns =['Item_Fat_Content', 'Item_Type','Outlet_Location_Type',\n",
        "       'Outlet_Type' ])\n",
        "test_X = pd.get_dummies(test_x, columns =['Item_Fat_Content', 'Item_Type','Outlet_Location_Type',\n",
        "       'Outlet_Type' ])\n",
        "#X = X.values\n",
        "X.info()"
      ],
      "execution_count": null,
      "outputs": [
        {
          "output_type": "stream",
          "text": [
            "<class 'pandas.core.frame.DataFrame'>\n",
            "RangeIndex: 8523 entries, 0 to 8522\n",
            "Data columns (total 31 columns):\n",
            " #   Column                           Non-Null Count  Dtype  \n",
            "---  ------                           --------------  -----  \n",
            " 0   Item_Visibility                  8523 non-null   float64\n",
            " 1   Item_MRP                         8523 non-null   float64\n",
            " 2   Outlet_Establishment_Year        8523 non-null   int64  \n",
            " 3   Item_Fat_Content_LF              8523 non-null   uint8  \n",
            " 4   Item_Fat_Content_Low Fat         8523 non-null   uint8  \n",
            " 5   Item_Fat_Content_Regular         8523 non-null   uint8  \n",
            " 6   Item_Fat_Content_low fat         8523 non-null   uint8  \n",
            " 7   Item_Fat_Content_reg             8523 non-null   uint8  \n",
            " 8   Item_Type_Baking Goods           8523 non-null   uint8  \n",
            " 9   Item_Type_Breads                 8523 non-null   uint8  \n",
            " 10  Item_Type_Breakfast              8523 non-null   uint8  \n",
            " 11  Item_Type_Canned                 8523 non-null   uint8  \n",
            " 12  Item_Type_Dairy                  8523 non-null   uint8  \n",
            " 13  Item_Type_Frozen Foods           8523 non-null   uint8  \n",
            " 14  Item_Type_Fruits and Vegetables  8523 non-null   uint8  \n",
            " 15  Item_Type_Hard Drinks            8523 non-null   uint8  \n",
            " 16  Item_Type_Health and Hygiene     8523 non-null   uint8  \n",
            " 17  Item_Type_Household              8523 non-null   uint8  \n",
            " 18  Item_Type_Meat                   8523 non-null   uint8  \n",
            " 19  Item_Type_Others                 8523 non-null   uint8  \n",
            " 20  Item_Type_Seafood                8523 non-null   uint8  \n",
            " 21  Item_Type_Snack Foods            8523 non-null   uint8  \n",
            " 22  Item_Type_Soft Drinks            8523 non-null   uint8  \n",
            " 23  Item_Type_Starchy Foods          8523 non-null   uint8  \n",
            " 24  Outlet_Location_Type_Tier 1      8523 non-null   uint8  \n",
            " 25  Outlet_Location_Type_Tier 2      8523 non-null   uint8  \n",
            " 26  Outlet_Location_Type_Tier 3      8523 non-null   uint8  \n",
            " 27  Outlet_Type_Grocery Store        8523 non-null   uint8  \n",
            " 28  Outlet_Type_Supermarket Type1    8523 non-null   uint8  \n",
            " 29  Outlet_Type_Supermarket Type2    8523 non-null   uint8  \n",
            " 30  Outlet_Type_Supermarket Type3    8523 non-null   uint8  \n",
            "dtypes: float64(2), int64(1), uint8(28)\n",
            "memory usage: 432.9 KB\n"
          ],
          "name": "stdout"
        }
      ]
    },
    {
      "cell_type": "code",
      "metadata": {
        "colab": {
          "base_uri": "https://localhost:8080/"
        },
        "id": "f1V8C2P7AncQ",
        "outputId": "92c7730e-de89-41cb-9651-9352e2823810"
      },
      "source": [
        "test_X.info()"
      ],
      "execution_count": null,
      "outputs": [
        {
          "output_type": "stream",
          "text": [
            "<class 'pandas.core.frame.DataFrame'>\n",
            "RangeIndex: 5681 entries, 0 to 5680\n",
            "Data columns (total 31 columns):\n",
            " #   Column                           Non-Null Count  Dtype  \n",
            "---  ------                           --------------  -----  \n",
            " 0   Item_Visibility                  5681 non-null   float64\n",
            " 1   Item_MRP                         5681 non-null   float64\n",
            " 2   Outlet_Establishment_Year        5681 non-null   int64  \n",
            " 3   Item_Fat_Content_LF              5681 non-null   uint8  \n",
            " 4   Item_Fat_Content_Low Fat         5681 non-null   uint8  \n",
            " 5   Item_Fat_Content_Regular         5681 non-null   uint8  \n",
            " 6   Item_Fat_Content_low fat         5681 non-null   uint8  \n",
            " 7   Item_Fat_Content_reg             5681 non-null   uint8  \n",
            " 8   Item_Type_Baking Goods           5681 non-null   uint8  \n",
            " 9   Item_Type_Breads                 5681 non-null   uint8  \n",
            " 10  Item_Type_Breakfast              5681 non-null   uint8  \n",
            " 11  Item_Type_Canned                 5681 non-null   uint8  \n",
            " 12  Item_Type_Dairy                  5681 non-null   uint8  \n",
            " 13  Item_Type_Frozen Foods           5681 non-null   uint8  \n",
            " 14  Item_Type_Fruits and Vegetables  5681 non-null   uint8  \n",
            " 15  Item_Type_Hard Drinks            5681 non-null   uint8  \n",
            " 16  Item_Type_Health and Hygiene     5681 non-null   uint8  \n",
            " 17  Item_Type_Household              5681 non-null   uint8  \n",
            " 18  Item_Type_Meat                   5681 non-null   uint8  \n",
            " 19  Item_Type_Others                 5681 non-null   uint8  \n",
            " 20  Item_Type_Seafood                5681 non-null   uint8  \n",
            " 21  Item_Type_Snack Foods            5681 non-null   uint8  \n",
            " 22  Item_Type_Soft Drinks            5681 non-null   uint8  \n",
            " 23  Item_Type_Starchy Foods          5681 non-null   uint8  \n",
            " 24  Outlet_Location_Type_Tier 1      5681 non-null   uint8  \n",
            " 25  Outlet_Location_Type_Tier 2      5681 non-null   uint8  \n",
            " 26  Outlet_Location_Type_Tier 3      5681 non-null   uint8  \n",
            " 27  Outlet_Type_Grocery Store        5681 non-null   uint8  \n",
            " 28  Outlet_Type_Supermarket Type1    5681 non-null   uint8  \n",
            " 29  Outlet_Type_Supermarket Type2    5681 non-null   uint8  \n",
            " 30  Outlet_Type_Supermarket Type3    5681 non-null   uint8  \n",
            "dtypes: float64(2), int64(1), uint8(28)\n",
            "memory usage: 288.6 KB\n"
          ],
          "name": "stdout"
        }
      ]
    },
    {
      "cell_type": "code",
      "metadata": {
        "colab": {
          "base_uri": "https://localhost:8080/"
        },
        "id": "mC2bV7SUi_zx",
        "outputId": "e78ea881-54b8-4a1f-a687-4da6bc6c5ca9"
      },
      "source": [
        "Y = train[['Item_Outlet_Sales']].values\n",
        "Y"
      ],
      "execution_count": null,
      "outputs": [
        {
          "output_type": "execute_result",
          "data": {
            "text/plain": [
              "array([[3735.138 ],\n",
              "       [ 443.4228],\n",
              "       [2097.27  ],\n",
              "       ...,\n",
              "       [1193.1136],\n",
              "       [1845.5976],\n",
              "       [ 765.67  ]])"
            ]
          },
          "metadata": {
            "tags": []
          },
          "execution_count": 128
        }
      ]
    },
    {
      "cell_type": "code",
      "metadata": {
        "id": "BjqQ95lVjTiC"
      },
      "source": [
        "x_train, x_test, y_train, y_test = train_test_split( X, Y, test_size= 0.3, random_state =0)"
      ],
      "execution_count": null,
      "outputs": []
    },
    {
      "cell_type": "code",
      "metadata": {
        "colab": {
          "base_uri": "https://localhost:8080/"
        },
        "id": "gMKdKYRHj-ft",
        "outputId": "db888009-061b-4aae-a5d8-e0b542170578"
      },
      "source": [
        "LR= LinearRegression()\n",
        "#LgR = LogisticRegression()\n",
        "LR.fit(x_train, y_train)\n",
        "#LgR.fit(x_train, y_train)\n",
        "LR_predict = LR.predict(x_test)\n",
        "predictions = pd.DataFrame({'predict':LR_predict.ravel(), 'actual' :y_test.ravel()})\n",
        "#LgR_predict = LgR.predict(x_test)\n",
        "LR_score = LR.score(x_test, y_test)\n",
        "#LgR_score = LgR.score(y_test, LgR_predict)\n",
        "print(LR_score)\n",
        "#print(LgR_score)"
      ],
      "execution_count": null,
      "outputs": [
        {
          "output_type": "stream",
          "text": [
            "0.5607129704328859\n"
          ],
          "name": "stdout"
        }
      ]
    },
    {
      "cell_type": "code",
      "metadata": {
        "id": "uPUeUrKp_hE3"
      },
      "source": [
        "LR.fit(X, Y)\n",
        "predict = LR.predict(test_X)"
      ],
      "execution_count": null,
      "outputs": []
    },
    {
      "cell_type": "code",
      "metadata": {
        "colab": {
          "base_uri": "https://localhost:8080/",
          "height": 990
        },
        "id": "8XAHEaPTBVV4",
        "outputId": "969c28c7-2086-4536-a224-4652aff767c0"
      },
      "source": [
        "result = pd.DataFrame({'Item_Identifier':test['Item_Identifier'], 'Outlet_Identifier':test['Outlet_Identifier'],\n",
        "        'Item_Outlet_Sales': predict.ravel()})\n",
        "result.head(30)"
      ],
      "execution_count": null,
      "outputs": [
        {
          "output_type": "execute_result",
          "data": {
            "text/html": [
              "<div>\n",
              "<style scoped>\n",
              "    .dataframe tbody tr th:only-of-type {\n",
              "        vertical-align: middle;\n",
              "    }\n",
              "\n",
              "    .dataframe tbody tr th {\n",
              "        vertical-align: top;\n",
              "    }\n",
              "\n",
              "    .dataframe thead th {\n",
              "        text-align: right;\n",
              "    }\n",
              "</style>\n",
              "<table border=\"1\" class=\"dataframe\">\n",
              "  <thead>\n",
              "    <tr style=\"text-align: right;\">\n",
              "      <th></th>\n",
              "      <th>Item_Identifier</th>\n",
              "      <th>Outlet_Identifier</th>\n",
              "      <th>Item_Outlet_Sales</th>\n",
              "    </tr>\n",
              "  </thead>\n",
              "  <tbody>\n",
              "    <tr>\n",
              "      <th>0</th>\n",
              "      <td>FDW58</td>\n",
              "      <td>OUT049</td>\n",
              "      <td>1806.082892</td>\n",
              "    </tr>\n",
              "    <tr>\n",
              "      <th>1</th>\n",
              "      <td>FDW14</td>\n",
              "      <td>OUT017</td>\n",
              "      <td>1394.162096</td>\n",
              "    </tr>\n",
              "    <tr>\n",
              "      <th>2</th>\n",
              "      <td>NCN55</td>\n",
              "      <td>OUT010</td>\n",
              "      <td>1911.307702</td>\n",
              "    </tr>\n",
              "    <tr>\n",
              "      <th>3</th>\n",
              "      <td>FDQ58</td>\n",
              "      <td>OUT017</td>\n",
              "      <td>2545.535364</td>\n",
              "    </tr>\n",
              "    <tr>\n",
              "      <th>4</th>\n",
              "      <td>FDY38</td>\n",
              "      <td>OUT027</td>\n",
              "      <td>5139.873607</td>\n",
              "    </tr>\n",
              "    <tr>\n",
              "      <th>5</th>\n",
              "      <td>FDH56</td>\n",
              "      <td>OUT046</td>\n",
              "      <td>2009.498682</td>\n",
              "    </tr>\n",
              "    <tr>\n",
              "      <th>6</th>\n",
              "      <td>FDL48</td>\n",
              "      <td>OUT018</td>\n",
              "      <td>600.304597</td>\n",
              "    </tr>\n",
              "    <tr>\n",
              "      <th>7</th>\n",
              "      <td>FDC48</td>\n",
              "      <td>OUT027</td>\n",
              "      <td>2783.140196</td>\n",
              "    </tr>\n",
              "    <tr>\n",
              "      <th>8</th>\n",
              "      <td>FDN33</td>\n",
              "      <td>OUT045</td>\n",
              "      <td>1615.643505</td>\n",
              "    </tr>\n",
              "    <tr>\n",
              "      <th>9</th>\n",
              "      <td>FDA36</td>\n",
              "      <td>OUT017</td>\n",
              "      <td>3054.181201</td>\n",
              "    </tr>\n",
              "    <tr>\n",
              "      <th>10</th>\n",
              "      <td>FDT44</td>\n",
              "      <td>OUT017</td>\n",
              "      <td>1987.849405</td>\n",
              "    </tr>\n",
              "    <tr>\n",
              "      <th>11</th>\n",
              "      <td>FDQ56</td>\n",
              "      <td>OUT045</td>\n",
              "      <td>1455.214934</td>\n",
              "    </tr>\n",
              "    <tr>\n",
              "      <th>12</th>\n",
              "      <td>NCC54</td>\n",
              "      <td>OUT019</td>\n",
              "      <td>1836.534982</td>\n",
              "    </tr>\n",
              "    <tr>\n",
              "      <th>13</th>\n",
              "      <td>FDU11</td>\n",
              "      <td>OUT049</td>\n",
              "      <td>2017.604658</td>\n",
              "    </tr>\n",
              "    <tr>\n",
              "      <th>14</th>\n",
              "      <td>DRL59</td>\n",
              "      <td>OUT013</td>\n",
              "      <td>860.586049</td>\n",
              "    </tr>\n",
              "    <tr>\n",
              "      <th>15</th>\n",
              "      <td>FDM24</td>\n",
              "      <td>OUT049</td>\n",
              "      <td>2519.915599</td>\n",
              "    </tr>\n",
              "    <tr>\n",
              "      <th>16</th>\n",
              "      <td>FDI57</td>\n",
              "      <td>OUT045</td>\n",
              "      <td>3387.921828</td>\n",
              "    </tr>\n",
              "    <tr>\n",
              "      <th>17</th>\n",
              "      <td>DRC12</td>\n",
              "      <td>OUT018</td>\n",
              "      <td>2754.844687</td>\n",
              "    </tr>\n",
              "    <tr>\n",
              "      <th>18</th>\n",
              "      <td>NCM42</td>\n",
              "      <td>OUT027</td>\n",
              "      <td>3185.519673</td>\n",
              "    </tr>\n",
              "    <tr>\n",
              "      <th>19</th>\n",
              "      <td>FDA46</td>\n",
              "      <td>OUT010</td>\n",
              "      <td>1149.136716</td>\n",
              "    </tr>\n",
              "    <tr>\n",
              "      <th>20</th>\n",
              "      <td>FDA31</td>\n",
              "      <td>OUT013</td>\n",
              "      <td>2810.806516</td>\n",
              "    </tr>\n",
              "    <tr>\n",
              "      <th>21</th>\n",
              "      <td>NCJ31</td>\n",
              "      <td>OUT035</td>\n",
              "      <td>3791.729167</td>\n",
              "    </tr>\n",
              "    <tr>\n",
              "      <th>22</th>\n",
              "      <td>FDG52</td>\n",
              "      <td>OUT046</td>\n",
              "      <td>799.663889</td>\n",
              "    </tr>\n",
              "    <tr>\n",
              "      <th>23</th>\n",
              "      <td>NCL19</td>\n",
              "      <td>OUT019</td>\n",
              "      <td>339.583296</td>\n",
              "    </tr>\n",
              "    <tr>\n",
              "      <th>24</th>\n",
              "      <td>FDS10</td>\n",
              "      <td>OUT035</td>\n",
              "      <td>2928.219416</td>\n",
              "    </tr>\n",
              "    <tr>\n",
              "      <th>25</th>\n",
              "      <td>FDX22</td>\n",
              "      <td>OUT010</td>\n",
              "      <td>1485.210020</td>\n",
              "    </tr>\n",
              "    <tr>\n",
              "      <th>26</th>\n",
              "      <td>NCF19</td>\n",
              "      <td>OUT035</td>\n",
              "      <td>826.636687</td>\n",
              "    </tr>\n",
              "    <tr>\n",
              "      <th>27</th>\n",
              "      <td>NCE06</td>\n",
              "      <td>OUT046</td>\n",
              "      <td>2577.170177</td>\n",
              "    </tr>\n",
              "    <tr>\n",
              "      <th>28</th>\n",
              "      <td>DRC27</td>\n",
              "      <td>OUT046</td>\n",
              "      <td>3882.269582</td>\n",
              "    </tr>\n",
              "    <tr>\n",
              "      <th>29</th>\n",
              "      <td>FDE21</td>\n",
              "      <td>OUT035</td>\n",
              "      <td>1942.394675</td>\n",
              "    </tr>\n",
              "  </tbody>\n",
              "</table>\n",
              "</div>"
            ],
            "text/plain": [
              "   Item_Identifier Outlet_Identifier  Item_Outlet_Sales\n",
              "0            FDW58            OUT049        1806.082892\n",
              "1            FDW14            OUT017        1394.162096\n",
              "2            NCN55            OUT010        1911.307702\n",
              "3            FDQ58            OUT017        2545.535364\n",
              "4            FDY38            OUT027        5139.873607\n",
              "5            FDH56            OUT046        2009.498682\n",
              "6            FDL48            OUT018         600.304597\n",
              "7            FDC48            OUT027        2783.140196\n",
              "8            FDN33            OUT045        1615.643505\n",
              "9            FDA36            OUT017        3054.181201\n",
              "10           FDT44            OUT017        1987.849405\n",
              "11           FDQ56            OUT045        1455.214934\n",
              "12           NCC54            OUT019        1836.534982\n",
              "13           FDU11            OUT049        2017.604658\n",
              "14           DRL59            OUT013         860.586049\n",
              "15           FDM24            OUT049        2519.915599\n",
              "16           FDI57            OUT045        3387.921828\n",
              "17           DRC12            OUT018        2754.844687\n",
              "18           NCM42            OUT027        3185.519673\n",
              "19           FDA46            OUT010        1149.136716\n",
              "20           FDA31            OUT013        2810.806516\n",
              "21           NCJ31            OUT035        3791.729167\n",
              "22           FDG52            OUT046         799.663889\n",
              "23           NCL19            OUT019         339.583296\n",
              "24           FDS10            OUT035        2928.219416\n",
              "25           FDX22            OUT010        1485.210020\n",
              "26           NCF19            OUT035         826.636687\n",
              "27           NCE06            OUT046        2577.170177\n",
              "28           DRC27            OUT046        3882.269582\n",
              "29           FDE21            OUT035        1942.394675"
            ]
          },
          "metadata": {
            "tags": []
          },
          "execution_count": 132
        }
      ]
    },
    {
      "cell_type": "code",
      "metadata": {
        "id": "X5AEyxGIJGOX"
      },
      "source": [
        "#result.to_csv('submission.csv', index= False)\n"
      ],
      "execution_count": null,
      "outputs": []
    }
  ]
}